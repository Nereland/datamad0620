{
 "cells": [
  {
   "cell_type": "code",
   "execution_count": 1,
   "metadata": {
    "scrolled": true
   },
   "outputs": [
    {
     "name": "stdout",
     "output_type": "stream",
     "text": [
      "<Response [200]>\n"
     ]
    },
    {
     "data": {
      "text/plain": [
       "{'login': 'Nereland',\n",
       " 'id': 59476481,\n",
       " 'node_id': 'MDQ6VXNlcjU5NDc2NDgx',\n",
       " 'avatar_url': 'https://avatars3.githubusercontent.com/u/59476481?v=4',\n",
       " 'gravatar_id': '',\n",
       " 'url': 'https://api.github.com/users/Nereland',\n",
       " 'html_url': 'https://github.com/Nereland',\n",
       " 'followers_url': 'https://api.github.com/users/Nereland/followers',\n",
       " 'following_url': 'https://api.github.com/users/Nereland/following{/other_user}',\n",
       " 'gists_url': 'https://api.github.com/users/Nereland/gists{/gist_id}',\n",
       " 'starred_url': 'https://api.github.com/users/Nereland/starred{/owner}{/repo}',\n",
       " 'subscriptions_url': 'https://api.github.com/users/Nereland/subscriptions',\n",
       " 'organizations_url': 'https://api.github.com/users/Nereland/orgs',\n",
       " 'repos_url': 'https://api.github.com/users/Nereland/repos',\n",
       " 'events_url': 'https://api.github.com/users/Nereland/events{/privacy}',\n",
       " 'received_events_url': 'https://api.github.com/users/Nereland/received_events',\n",
       " 'type': 'User',\n",
       " 'site_admin': False,\n",
       " 'name': 'Nerea Amezcua-Valmala',\n",
       " 'company': None,\n",
       " 'blog': '',\n",
       " 'location': 'Madrid',\n",
       " 'email': None,\n",
       " 'hireable': None,\n",
       " 'bio': None,\n",
       " 'twitter_username': None,\n",
       " 'public_repos': 10,\n",
       " 'public_gists': 0,\n",
       " 'followers': 1,\n",
       " 'following': 0,\n",
       " 'created_at': '2020-01-03T13:03:12Z',\n",
       " 'updated_at': '2020-06-17T14:04:17Z'}"
      ]
     },
     "execution_count": 1,
     "metadata": {},
     "output_type": "execute_result"
    }
   ],
   "source": [
    "import os\n",
    "import json\n",
    "import dotenv\n",
    "from dotenv import load_dotenv\n",
    "import requests\n",
    "load_dotenv()\n",
    "\n",
    "\n",
    "def getfromGithub(endpoint, queryParams={}):\n",
    "    url = f\"https://api.github.com{endpoint}\"\n",
    "    apiKey = os.getenv(\"GITHUB_APIKEY\")\n",
    "    if not apiKey:\n",
    "        raise ValueError(\"Please set up the GITHUB_APIKEY env variable\")\n",
    "    headers = {\n",
    "        \"Authorization\": f\"token {apiKey}\"\n",
    "        }\n",
    "\n",
    "    res = requests.get(url, headers=headers, params=queryParams)\n",
    "    print(res.url)\n",
    "    return res.json()\n",
    "\n",
    "url = \"https://api.github.com/users/Nereland\"\n",
    "res = requests.get(url)\n",
    "print(res)\n",
    "data = res.json()\n",
    "data\n"
   ]
  },
  {
   "cell_type": "code",
   "execution_count": 2,
   "metadata": {},
   "outputs": [
    {
     "name": "stdout",
     "output_type": "stream",
     "text": [
      "https://api.github.com/repos/ironhack-datalabs/datamad0620/commits?since=2019-06-010T00%3A00%3A00\n"
     ]
    },
    {
     "data": {
      "text/plain": [
       "4"
      ]
     },
     "execution_count": 2,
     "metadata": {},
     "output_type": "execute_result"
    }
   ],
   "source": [
    "commits = getfromGithub(\"/repos/ironhack-datalabs/datamad0620/commits\",{\"since\":\"2019-06-010T00:00:00\"})\n",
    "len(commits)"
   ]
  },
  {
   "cell_type": "code",
   "execution_count": null,
   "metadata": {},
   "outputs": [],
   "source": []
  }
 ],
 "metadata": {
  "kernelspec": {
   "display_name": "Python 3",
   "language": "python",
   "name": "python3"
  },
  "language_info": {
   "codemirror_mode": {
    "name": "ipython",
    "version": 3
   },
   "file_extension": ".py",
   "mimetype": "text/x-python",
   "name": "python",
   "nbconvert_exporter": "python",
   "pygments_lexer": "ipython3",
   "version": "3.8.2"
  }
 },
 "nbformat": 4,
 "nbformat_minor": 4
}
