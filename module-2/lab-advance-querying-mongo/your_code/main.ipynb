{
 "cells": [
  {
   "cell_type": "markdown",
   "metadata": {},
   "source": [
    "# Advanced Querying Mongo"
   ]
  },
  {
   "cell_type": "markdown",
   "metadata": {},
   "source": [
    "Importing libraries and setting up connection"
   ]
  },
  {
   "cell_type": "code",
   "execution_count": 12,
   "metadata": {},
   "outputs": [
    {
     "name": "stdout",
     "output_type": "stream",
     "text": [
      "Requirement already satisfied: pymongo in /Library/Frameworks/Python.framework/Versions/3.8/lib/python3.8/site-packages (3.10.1)\n",
      "\u001b[33mWARNING: You are using pip version 20.0.2; however, version 20.1.1 is available.\n",
      "You should consider upgrading via the '/Library/Frameworks/Python.framework/Versions/3.8/bin/python3.8 -m pip install --upgrade pip' command.\u001b[0m\n"
     ]
    }
   ],
   "source": [
    "!pip3 install pymongo\n",
    "from pymongo import MongoClient\n",
    "dbName = \"companies\"\n",
    "mongodbURL = f\"mongodb://localhost/{dbName}\"\n",
    "client = MongoClient(mongodbURL, connectTimeoutMS=2000, serverSelectionTimeoutMS=2000)\n",
    "db = client.get_database()\n",
    "client = MongoClient()\n"
   ]
  },
  {
   "cell_type": "markdown",
   "metadata": {},
   "source": [
    "### 1. All the companies whose name match 'Babelgum'. Retrieve only their `name` field."
   ]
  },
  {
   "cell_type": "code",
   "execution_count": 13,
   "metadata": {},
   "outputs": [
    {
     "data": {
      "text/plain": [
       "[{'_id': ObjectId('52cdef7c4bab8bd675297da0'), 'name': 'Babelgum'}]"
      ]
     },
     "execution_count": 13,
     "metadata": {},
     "output_type": "execute_result"
    }
   ],
   "source": [
    "query = {\"name\":{\"$eq\":\"Babelgum\"}}\n",
    "list(db[\"companies\"].find(query,{\"name\":1}))"
   ]
  },
  {
   "cell_type": "markdown",
   "metadata": {},
   "source": [
    "### 2. All the companies that have more than 5000 employees. Limit the search to 20 companies and sort them by **number of employees**."
   ]
  },
  {
   "cell_type": "code",
   "execution_count": 50,
   "metadata": {},
   "outputs": [
    {
     "data": {
      "text/plain": [
       "[{'_id': ObjectId('52cdef7d4bab8bd67529941a'), 'number_of_employees': 405000},\n",
       " {'_id': ObjectId('52cdef7c4bab8bd67529856a'), 'number_of_employees': 388000},\n",
       " {'_id': ObjectId('52cdef7d4bab8bd675299d33'), 'number_of_employees': 320000},\n",
       " {'_id': ObjectId('52cdef7c4bab8bd675297e89'), 'number_of_employees': 300000},\n",
       " {'_id': ObjectId('52cdef7e4bab8bd67529b0fe'), 'number_of_employees': 227000}]"
      ]
     },
     "execution_count": 50,
     "metadata": {},
     "output_type": "execute_result"
    }
   ],
   "source": [
    "# Your Code\n",
    "from pymongo import ASCENDING, DESCENDING\n",
    "query = {\"number_of_employees\":{\"$gt\":5000}}\n",
    "list(db[\"companies\"].find(query,{\"number_of_employees\"}).sort(\"number_of_employees\", DESCENDING).limit(5))\n"
   ]
  },
  {
   "cell_type": "markdown",
   "metadata": {},
   "source": [
    "### 3. All the companies founded between 2000 and 2005, both years included. Retrieve only the `name` and `founded_year` fields."
   ]
  },
  {
   "cell_type": "code",
   "execution_count": 26,
   "metadata": {},
   "outputs": [
    {
     "data": {
      "text/plain": [
       "[{'_id': ObjectId('52cdef7c4bab8bd675297d8a'),\n",
       "  'name': 'Wetpaint',\n",
       "  'founded_year': 2005},\n",
       " {'_id': ObjectId('52cdef7c4bab8bd675297d8c'),\n",
       "  'name': 'Zoho',\n",
       "  'founded_year': 2005},\n",
       " {'_id': ObjectId('52cdef7c4bab8bd675297d8f'),\n",
       "  'name': 'Omnidrive',\n",
       "  'founded_year': 2005},\n",
       " {'_id': ObjectId('52cdef7c4bab8bd675297d8d'),\n",
       "  'name': 'Digg',\n",
       "  'founded_year': 2004},\n",
       " {'_id': ObjectId('52cdef7c4bab8bd675297d96'),\n",
       "  'name': 'Gizmoz',\n",
       "  'founded_year': 2003}]"
      ]
     },
     "execution_count": 26,
     "metadata": {},
     "output_type": "execute_result"
    }
   ],
   "source": [
    "# Your Code\n",
    "query = { \"$and\":[\n",
    "    {\"founded_year\":{\"$gte\":2000}},\n",
    "    {\"founded_year\":{\"$lte\":2005}} ]\n",
    "    }\n",
    "list(db.companies.find(query,{\"founded_year\", \"name\"}).limit(5))\n"
   ]
  },
  {
   "cell_type": "markdown",
   "metadata": {},
   "source": [
    "### 4. All the companies that had a Valuation Amount of more than 100.000.000 and have been founded before 2010. Retrieve only the `name` and `ipo` fields."
   ]
  },
  {
   "cell_type": "code",
   "execution_count": 39,
   "metadata": {},
   "outputs": [
    {
     "data": {
      "text/plain": [
       "[{'_id': ObjectId('52cdef7c4bab8bd675297d94'),\n",
       "  'name': 'Twitter',\n",
       "  'ipo': {'valuation_amount': 18100000000,\n",
       "   'valuation_currency_code': 'USD',\n",
       "   'pub_year': 2013,\n",
       "   'pub_month': 11,\n",
       "   'pub_day': 7,\n",
       "   'stock_symbol': 'NYSE:TWTR'}},\n",
       " {'_id': ObjectId('52cdef7c4bab8bd675297d8e'),\n",
       "  'name': 'Facebook',\n",
       "  'ipo': {'valuation_amount': 104000000000,\n",
       "   'valuation_currency_code': 'USD',\n",
       "   'pub_year': 2012,\n",
       "   'pub_month': 5,\n",
       "   'pub_day': 18,\n",
       "   'stock_symbol': 'NASDAQ:FB'}}]"
      ]
     },
     "execution_count": 39,
     "metadata": {},
     "output_type": "execute_result"
    }
   ],
   "source": [
    "query = {\"$and\":[{\"ipo.valuation_amount\":{\"$gt\":100000000}},\n",
    "                 {\"founded_year\":{\"$lt\":2010}}]}\n",
    "list(db.companies.find(query,{\"ipo\", \"name\"}).limit(2))"
   ]
  },
  {
   "cell_type": "markdown",
   "metadata": {},
   "source": [
    "### 5. All the companies that have less than 1000 employees and have been founded before 2005. Order them by the number of employees and limit the search to 10 companies."
   ]
  },
  {
   "cell_type": "code",
   "execution_count": 47,
   "metadata": {},
   "outputs": [
    {
     "data": {
      "text/plain": [
       "[{'_id': ObjectId('52cdef7d4bab8bd675298933'),\n",
       "  'number_of_employees': 974,\n",
       "  'founded_year': 2000},\n",
       " {'_id': ObjectId('52cdef7e4bab8bd67529ac95'),\n",
       "  'number_of_employees': 948,\n",
       "  'founded_year': 1997},\n",
       " {'_id': ObjectId('52cdef7f4bab8bd67529be17'),\n",
       "  'number_of_employees': 931,\n",
       "  'founded_year': 1997},\n",
       " {'_id': ObjectId('52cdef7c4bab8bd6752986a2'),\n",
       "  'number_of_employees': 903,\n",
       "  'founded_year': 1983},\n",
       " {'_id': ObjectId('52cdef7e4bab8bd67529af6d'),\n",
       "  'number_of_employees': 900,\n",
       "  'founded_year': 1991}]"
      ]
     },
     "execution_count": 47,
     "metadata": {},
     "output_type": "execute_result"
    }
   ],
   "source": [
    "# Your Code\n",
    "\n",
    "query = {\"$and\":[{\"number_of_employees\":{\"$lt\":1000}},\n",
    "                 {\"founded_year\":{\"$lt\":2005}}]}\n",
    "\n",
    "list(db[\"companies\"].find(query,{\"number_of_employees\", \"founded_year\"}).sort(\"number_of_employees\", DESCENDING).limit(5))\n"
   ]
  },
  {
   "cell_type": "markdown",
   "metadata": {},
   "source": [
    "### 6. All the companies that don't include the `partners` field."
   ]
  },
  {
   "cell_type": "code",
   "execution_count": 54,
   "metadata": {},
   "outputs": [
    {
     "data": {
      "text/plain": [
       "[]"
      ]
     },
     "execution_count": 54,
     "metadata": {},
     "output_type": "execute_result"
    }
   ],
   "source": [
    "# Your Code\n",
    "query = {\"partners\":{\"$exists\":False}} \n",
    "list(db[\"companies\"].find(query,{\"name\"}))"
   ]
  },
  {
   "cell_type": "markdown",
   "metadata": {},
   "source": [
    "### 7. All the companies that have a null type of value on the `category_code` field."
   ]
  },
  {
   "cell_type": "code",
   "execution_count": 86,
   "metadata": {},
   "outputs": [
    {
     "data": {
      "text/plain": [
       "[{'_id': ObjectId('52cdef7c4bab8bd6752980f6'), 'category_code': None},\n",
       " {'_id': ObjectId('52cdef7c4bab8bd675298225'), 'category_code': None},\n",
       " {'_id': ObjectId('52cdef7c4bab8bd675298226'), 'category_code': None},\n",
       " {'_id': ObjectId('52cdef7c4bab8bd675298261'), 'category_code': None},\n",
       " {'_id': ObjectId('52cdef7c4bab8bd675298262'), 'category_code': None}]"
      ]
     },
     "execution_count": 86,
     "metadata": {},
     "output_type": "execute_result"
    }
   ],
   "source": [
    "# Your Code\n",
    "query = {\"category_code\":{\"$type\":\"null\"}} \n",
    "list(db[\"companies\"].find(query,{\"category_code\"}).limit(5))\n"
   ]
  },
  {
   "cell_type": "markdown",
   "metadata": {},
   "source": [
    "### 8. All the companies that have at least 100 employees but less than 1000. Retrieve only the `name` and `number of employees` fields."
   ]
  },
  {
   "cell_type": "code",
   "execution_count": 55,
   "metadata": {},
   "outputs": [
    {
     "data": {
      "text/plain": [
       "[{'_id': ObjectId('52cdef7c4bab8bd675297d8b'),\n",
       "  'name': 'AdventNet',\n",
       "  'number_of_employees': 600},\n",
       " {'_id': ObjectId('52cdef7c4bab8bd675297da7'),\n",
       "  'name': 'AddThis',\n",
       "  'number_of_employees': 120},\n",
       " {'_id': ObjectId('52cdef7c4bab8bd675297da8'),\n",
       "  'name': 'OpenX',\n",
       "  'number_of_employees': 305},\n",
       " {'_id': ObjectId('52cdef7c4bab8bd675297db5'),\n",
       "  'name': 'LifeLock',\n",
       "  'number_of_employees': 644},\n",
       " {'_id': ObjectId('52cdef7c4bab8bd675297dbb'),\n",
       "  'name': 'Jajah',\n",
       "  'number_of_employees': 110}]"
      ]
     },
     "execution_count": 55,
     "metadata": {},
     "output_type": "execute_result"
    }
   ],
   "source": [
    "query = {\"$and\":[{\"number_of_employees\":{\"$gte\":100}},\n",
    "                 {\"number_of_employees\":{\"$lt\":1000}}]}\n",
    "\n",
    "list(db[\"companies\"].find(query,{\"number_of_employees\", \"name\"}).limit(5))\n",
    "\n"
   ]
  },
  {
   "cell_type": "markdown",
   "metadata": {},
   "source": [
    "### 9. Order all the companies by their IPO price in a descending order."
   ]
  },
  {
   "cell_type": "code",
   "execution_count": 75,
   "metadata": {},
   "outputs": [
    {
     "data": {
      "text/plain": [
       "[{'_id': ObjectId('52cdef7e4bab8bd67529a8b4'),\n",
       "  'ipo': {'valuation_amount': 108960000000}},\n",
       " {'_id': ObjectId('52cdef7c4bab8bd675297d8e'),\n",
       "  'ipo': {'valuation_amount': 104000000000}},\n",
       " {'_id': ObjectId('52cdef7c4bab8bd675297e7a'),\n",
       "  'ipo': {'valuation_amount': 100000000000}},\n",
       " {'_id': ObjectId('52cdef7c4bab8bd675297d94'),\n",
       "  'ipo': {'valuation_amount': 18100000000}},\n",
       " {'_id': ObjectId('52cdef7d4bab8bd675299d5d'),\n",
       "  'ipo': {'valuation_amount': 12800000000}}]"
      ]
     },
     "execution_count": 75,
     "metadata": {},
     "output_type": "execute_result"
    }
   ],
   "source": [
    "# Your Code\n",
    "query = {\"ipo.valuation_amount\":{\"$gt\":0}}\n",
    "\n",
    "list(db[\"companies\"].find(query,{\"ipo.valuation_amount\"}).sort(\"ipo.valuation_amount\", DESCENDING).limit(5))\n",
    "\n"
   ]
  },
  {
   "cell_type": "markdown",
   "metadata": {},
   "source": [
    "### 10. Retrieve the 10 companies with more employees, order by the `number of employees`"
   ]
  },
  {
   "cell_type": "code",
   "execution_count": 77,
   "metadata": {},
   "outputs": [
    {
     "data": {
      "text/plain": [
       "[{'_id': ObjectId('52cdef7d4bab8bd67529941a'), 'number_of_employees': 405000},\n",
       " {'_id': ObjectId('52cdef7c4bab8bd67529856a'), 'number_of_employees': 388000},\n",
       " {'_id': ObjectId('52cdef7d4bab8bd675299d33'), 'number_of_employees': 320000},\n",
       " {'_id': ObjectId('52cdef7c4bab8bd675297e89'), 'number_of_employees': 300000},\n",
       " {'_id': ObjectId('52cdef7e4bab8bd67529b0fe'), 'number_of_employees': 227000}]"
      ]
     },
     "execution_count": 77,
     "metadata": {},
     "output_type": "execute_result"
    }
   ],
   "source": [
    "# Your Code\n",
    "query = {\"number_of_employees\":{\"$gt\":0}}\n",
    "list(db[\"companies\"].find(query,{\"number_of_employees\"}).sort(\"number_of_employees\", DESCENDING).limit(5))\n"
   ]
  },
  {
   "cell_type": "markdown",
   "metadata": {},
   "source": [
    "### 11. All the companies founded on the second semester of the year. Limit your search to 1000 companies."
   ]
  },
  {
   "cell_type": "code",
   "execution_count": 60,
   "metadata": {},
   "outputs": [
    {
     "data": {
      "text/plain": [
       "[{'_id': ObjectId('52cdef7c4bab8bd675297d8a'), 'founded_month': 10},\n",
       " {'_id': ObjectId('52cdef7c4bab8bd675297d8c'), 'founded_month': 9},\n",
       " {'_id': ObjectId('52cdef7c4bab8bd675297d91'), 'founded_month': 6},\n",
       " {'_id': ObjectId('52cdef7c4bab8bd675297d90'), 'founded_month': 6},\n",
       " {'_id': ObjectId('52cdef7c4bab8bd675297d8f'), 'founded_month': 11}]"
      ]
     },
     "execution_count": 60,
     "metadata": {},
     "output_type": "execute_result"
    }
   ],
   "source": [
    "# Your Cod\n",
    "\n",
    "query = {\"founded_month\":{\"$gte\":6}}\n",
    "list(db[\"companies\"].find(query,{\"founded_month\"}).limit(5))#1000 \n"
   ]
  },
  {
   "cell_type": "markdown",
   "metadata": {},
   "source": [
    "### 12. All the companies founded before 2000 that have an acquisition amount of more than 10.000.00"
   ]
  },
  {
   "cell_type": "code",
   "execution_count": 69,
   "metadata": {},
   "outputs": [
    {
     "data": {
      "text/plain": [
       "[{'_id': ObjectId('52cdef7c4bab8bd675297d90'),\n",
       "  'founded_year': 1999,\n",
       "  'acquisition': {'price_amount': 625000000}},\n",
       " {'_id': ObjectId('52cdef7c4bab8bd675297deb'),\n",
       "  'founded_year': 1999,\n",
       "  'acquisition': {'price_amount': 180000000}},\n",
       " {'_id': ObjectId('52cdef7c4bab8bd675297e2c'),\n",
       "  'founded_year': 1999,\n",
       "  'acquisition': {'price_amount': 25000000}},\n",
       " {'_id': ObjectId('52cdef7c4bab8bd675297e37'),\n",
       "  'founded_year': 1999,\n",
       "  'acquisition': {'price_amount': 7140000}},\n",
       " {'_id': ObjectId('52cdef7c4bab8bd675297e97'),\n",
       "  'founded_year': 1999,\n",
       "  'acquisition': {'price_amount': 300000000}}]"
      ]
     },
     "execution_count": 69,
     "metadata": {},
     "output_type": "execute_result"
    }
   ],
   "source": [
    "# Your Code\n",
    "query = {\"$and\":[{\"founded_year\":{\"$lt\":2000}},\n",
    "                 {\"acquisition.price_amount\":{\"$gt\":1000000}}]}\n",
    "\n",
    "list(db[\"companies\"].find(query,{\"founded_year\", \"acquisition.price_amount\"}).limit(5))\n"
   ]
  },
  {
   "cell_type": "markdown",
   "metadata": {},
   "source": [
    "### 13. All the companies that have been acquired after 2010, order by the acquisition amount, and retrieve only their `name` and `acquisition` field."
   ]
  },
  {
   "cell_type": "code",
   "execution_count": 92,
   "metadata": {},
   "outputs": [
    {
     "data": {
      "text/plain": [
       "[{'_id': ObjectId('52cdef7c4bab8bd675297d8a'),\n",
       "  'name': 'Wetpaint',\n",
       "  'acquisition': {'price_amount': 30000000,\n",
       "   'price_currency_code': 'USD',\n",
       "   'term_code': 'cash_and_stock',\n",
       "   'source_url': 'http://allthingsd.com/20131216/viggle-tries-to-bulk-up-its-social-tv-business-by-buying-wetpaint/?mod=atdtweet',\n",
       "   'source_description': ' Viggle Tries to Bulk Up Its Social TV Business by Buying Wetpaint',\n",
       "   'acquired_year': 2013,\n",
       "   'acquired_month': 12,\n",
       "   'acquired_day': 16,\n",
       "   'acquiring_company': {'name': 'Viggle', 'permalink': 'viggle'}}},\n",
       " {'_id': ObjectId('52cdef7c4bab8bd675297d91'),\n",
       "  'name': 'Geni',\n",
       "  'acquisition': {'price_amount': None,\n",
       "   'price_currency_code': 'USD',\n",
       "   'term_code': None,\n",
       "   'source_url': 'http://techcrunch.com/2012/11/28/all-in-the-family-myheritage-buys-former-yammer-stablemate-geni-com-raises-25m/',\n",
       "   'source_description': 'MyHeritage acquires Geni and $25M to build family tree of the whole world',\n",
       "   'acquired_year': 2012,\n",
       "   'acquired_month': 11,\n",
       "   'acquired_day': 28,\n",
       "   'acquiring_company': {'name': 'MyHeritage', 'permalink': 'myheritage'}}},\n",
       " {'_id': ObjectId('52cdef7c4bab8bd675297d8d'),\n",
       "  'name': 'Digg',\n",
       "  'acquisition': {'price_amount': 500000,\n",
       "   'price_currency_code': 'USD',\n",
       "   'term_code': None,\n",
       "   'source_url': 'http://techcrunch.com/2012/07/12/betaworks-acquires-digg/',\n",
       "   'source_description': 'Betaworks Acquires Digg (TechCrunch)',\n",
       "   'acquired_year': 2012,\n",
       "   'acquired_month': 7,\n",
       "   'acquired_day': 12,\n",
       "   'acquiring_company': {'name': 'betaworks', 'permalink': 'betaworks'}}}]"
      ]
     },
     "execution_count": 92,
     "metadata": {},
     "output_type": "execute_result"
    }
   ],
   "source": [
    "# Your Code\n",
    "query = {\"acquisition.acquired_year\":{\"$gt\":2010}}\n",
    "\n",
    "list(db[\"companies\"].find(query,{\"acquisition\", \"name\"}).limit(3))\n"
   ]
  },
  {
   "cell_type": "markdown",
   "metadata": {},
   "source": [
    "### 14. Order the companies by their `founded year`, retrieving only their `name` and `founded year`."
   ]
  },
  {
   "cell_type": "code",
   "execution_count": null,
   "metadata": {},
   "outputs": [],
   "source": [
    "# Your Code\n",
    "query = {\"founded_year\":{\"$exists\":True}}\n",
    "list(db[\"companies\"].find(query,{\"number_of_employees\"}).sort(\"number_of_employees\", DESCENDING).limit(5))\n",
    "\n"
   ]
  },
  {
   "cell_type": "markdown",
   "metadata": {},
   "source": [
    "### 15. All the companies that have been founded on the first seven days of the month, including the seventh. Sort them by their `acquisition price` in a descending order. Limit the search to 10 documents."
   ]
  },
  {
   "cell_type": "code",
   "execution_count": 88,
   "metadata": {},
   "outputs": [
    {
     "data": {
      "text/plain": [
       "[{'_id': ObjectId('52cdef7d4bab8bd6752989a1'), 'founded_day': 4},\n",
       " {'_id': ObjectId('52cdef7c4bab8bd675297e89'), 'founded_day': 1},\n",
       " {'_id': ObjectId('52cdef7c4bab8bd675297efe'), 'founded_day': 1},\n",
       " {'_id': ObjectId('52cdef7c4bab8bd675297f0c'), 'founded_day': 1},\n",
       " {'_id': ObjectId('52cdef7c4bab8bd675297d90'), 'founded_day': 2}]"
      ]
     },
     "execution_count": 88,
     "metadata": {},
     "output_type": "execute_result"
    }
   ],
   "source": [
    "# Your Code\n",
    "query = {\"founded_day\":{\"$lte\": 7}}\n",
    "\n",
    "list(db[\"companies\"].find(query,{\"founded_day\"}).sort(\"acquisition.price_amount\", DESCENDING).limit(5))\n",
    "\n"
   ]
  },
  {
   "cell_type": "markdown",
   "metadata": {},
   "source": [
    "### 16. All the companies on the 'web' `category` that have more than 4000 employees. Sort them by the amount of employees in ascending order."
   ]
  },
  {
   "cell_type": "code",
   "execution_count": 94,
   "metadata": {},
   "outputs": [
    {
     "data": {
      "text/plain": [
       "[{'_id': ObjectId('52cdef7c4bab8bd6752982a8'),\n",
       "  'category_code': 'web',\n",
       "  'number_of_employees': 15500},\n",
       " {'_id': ObjectId('52cdef7c4bab8bd675297d9b'),\n",
       "  'category_code': 'web',\n",
       "  'number_of_employees': 15000},\n",
       " {'_id': ObjectId('52cdef7c4bab8bd675297da3'),\n",
       "  'category_code': 'web',\n",
       "  'number_of_employees': 13600},\n",
       " {'_id': ObjectId('52cdef7c4bab8bd675297fcb'),\n",
       "  'category_code': 'web',\n",
       "  'number_of_employees': 10000},\n",
       " {'_id': ObjectId('52cdef7c4bab8bd67529834c'),\n",
       "  'category_code': 'web',\n",
       "  'number_of_employees': 10000}]"
      ]
     },
     "execution_count": 94,
     "metadata": {},
     "output_type": "execute_result"
    }
   ],
   "source": [
    "# Your Code\n",
    "query = {\"$and\":[{\"category_code\":{\"$eq\":\"web\"}},\n",
    "                 {\"number_of_employees\":{\"$gt\":4000}}]}\n",
    "\n",
    "list(db[\"companies\"].find(query,{\"category_code\", \"number_of_employees\"}).sort(\"number_of_employees\", DESCENDING).limit(5))\n",
    "\n"
   ]
  },
  {
   "cell_type": "markdown",
   "metadata": {},
   "source": [
    "### 17. All the companies whose acquisition amount is more than 10.000.000, and currency is 'EUR'."
   ]
  },
  {
   "cell_type": "code",
   "execution_count": 103,
   "metadata": {},
   "outputs": [
    {
     "data": {
      "text/plain": [
       "[{'_id': ObjectId('52cdef7d4bab8bd675298f94'),\n",
       "  'name': 'Mobile Trend',\n",
       "  'acquisition': {'price_amount': 7000000, 'price_currency_code': 'EUR'}},\n",
       " {'_id': ObjectId('52cdef7d4bab8bd67529a229'),\n",
       "  'name': 'Citizenside',\n",
       "  'acquisition': {'price_amount': 30000, 'price_currency_code': 'EUR'}},\n",
       " {'_id': ObjectId('52cdef7e4bab8bd67529a2fb'),\n",
       "  'name': 'Excite Europe',\n",
       "  'acquisition': {'price_amount': 2500000, 'price_currency_code': 'EUR'}}]"
      ]
     },
     "execution_count": 103,
     "metadata": {},
     "output_type": "execute_result"
    }
   ],
   "source": [
    "query = {\"$and\":[{\"acquisition.price_amount\":{\"$lt\":10000000}},\n",
    "                 {\"acquisition.price_currency_code\":{\"$eq\":\"EUR\"}}]}\n",
    "\n",
    "list(db[\"companies\"].find(query,{\"name\", \"acquisition.price_amount\", \"acquisition.price_currency_code\"}).limit(3))\n",
    "\n"
   ]
  },
  {
   "cell_type": "markdown",
   "metadata": {},
   "source": [
    "### 18. All the companies that have been acquired on the first trimester of the year. Limit the search to 10 companies, and retrieve only their `name` and `acquisition` fields."
   ]
  },
  {
   "cell_type": "code",
   "execution_count": 99,
   "metadata": {},
   "outputs": [
    {
     "data": {
      "text/plain": [
       "[{'_id': ObjectId('52cdef7c4bab8bd675297dab'),\n",
       "  'name': 'Kyte',\n",
       "  'acquisition': {'price_amount': None,\n",
       "   'price_currency_code': 'USD',\n",
       "   'term_code': None,\n",
       "   'source_url': 'http://techcrunch.com/2011/01/31/exclusive-kit-digital-acquires-kickapps-kewego-and-kyte-for-77-2-million/',\n",
       "   'source_description': 'KIT digital Acquires KickApps, Kewego AND Kyte For $77.2 Million',\n",
       "   'acquired_year': 2011,\n",
       "   'acquired_month': 1,\n",
       "   'acquired_day': 31,\n",
       "   'acquiring_company': {'name': 'KIT digital', 'permalink': 'kit-digital'}}},\n",
       " {'_id': ObjectId('52cdef7c4bab8bd675297db4'),\n",
       "  'name': 'NetRatings',\n",
       "  'acquisition': {'price_amount': 327000000,\n",
       "   'price_currency_code': 'USD',\n",
       "   'term_code': 'cash',\n",
       "   'source_url': 'http://login.vnuemedia.com/hr/login/login_subscribe.jsp?id=0oqDem1gYIfIclz9i2%2Ffqj5NxCp2AC5DPbVnyT2da8GyV2mXjasabE128n69OrmcAh52%2FGE3pSG%2F%0AEKRYD9vh9EhrJrxukmUzh532fSMTZXL42gwPB80UWVtF1NwJ5UZSM%2BCkLU1mpYBoHFgiH%2Fi0f6Ax%0A9yMIVxt47t%2BHamhEQ0nkOEK24L',\n",
       "   'source_description': 'Nielsen buys rest of NetRatings',\n",
       "   'acquired_year': 2007,\n",
       "   'acquired_month': 2,\n",
       "   'acquired_day': None,\n",
       "   'acquiring_company': {'name': 'Nielsen', 'permalink': 'nielsen'}}},\n",
       " {'_id': ObjectId('52cdef7c4bab8bd675297dbf'),\n",
       "  'name': 'blogTV',\n",
       "  'acquisition': {'price_amount': None,\n",
       "   'price_currency_code': 'USD',\n",
       "   'term_code': None,\n",
       "   'source_url': 'http://techcrunch.com/2013/03/13/younow-buys-blogtv/',\n",
       "   'source_description': 'Live Social Video Network YouNow Acquires Streaming Service BlogTV',\n",
       "   'acquired_year': 2013,\n",
       "   'acquired_month': 3,\n",
       "   'acquired_day': 13,\n",
       "   'acquiring_company': {'name': 'YouNow', 'permalink': 'younow'}}}]"
      ]
     },
     "execution_count": 99,
     "metadata": {},
     "output_type": "execute_result"
    }
   ],
   "source": [
    "# Your Code\n",
    "query = {\"acquisition.acquired_month\":{\"$lte\":3}}\n",
    "list(db[\"companies\"].find(query,{\"acquisition\", \"name\"}).limit(3))\n"
   ]
  },
  {
   "cell_type": "markdown",
   "metadata": {},
   "source": [
    "# Bonus\n",
    "### 19. All the companies that have been founded between 2000 and 2010, but have not been acquired before 2011."
   ]
  },
  {
   "cell_type": "code",
   "execution_count": 114,
   "metadata": {},
   "outputs": [
    {
     "data": {
      "text/plain": [
       "[{'_id': ObjectId('52cdef7c4bab8bd675297d8a'),\n",
       "  'name': 'Wetpaint',\n",
       "  'acquisition': {'acquired_year': 2013}},\n",
       " {'_id': ObjectId('52cdef7c4bab8bd675297d91'),\n",
       "  'name': 'Geni',\n",
       "  'acquisition': {'acquired_year': 2012}},\n",
       " {'_id': ObjectId('52cdef7c4bab8bd675297d8d'),\n",
       "  'name': 'Digg',\n",
       "  'acquisition': {'acquired_year': 2012}},\n",
       " {'_id': ObjectId('52cdef7c4bab8bd675297dab'),\n",
       "  'name': 'Kyte',\n",
       "  'acquisition': {'acquired_year': 2011}},\n",
       " {'_id': ObjectId('52cdef7c4bab8bd675297daf'),\n",
       "  'name': 'Jingle Networks',\n",
       "  'acquisition': {'acquired_year': 2011}},\n",
       " {'_id': ObjectId('52cdef7c4bab8bd675297dbf'),\n",
       "  'name': 'blogTV',\n",
       "  'acquisition': {'acquired_year': 2013}},\n",
       " {'_id': ObjectId('52cdef7c4bab8bd675297dc7'),\n",
       "  'name': 'delicious',\n",
       "  'acquisition': {'acquired_year': 2011}},\n",
       " {'_id': ObjectId('52cdef7c4bab8bd675297dcb'),\n",
       "  'name': 'Revision3',\n",
       "  'acquisition': {'acquired_year': 2012}},\n",
       " {'_id': ObjectId('52cdef7c4bab8bd675297dda'),\n",
       "  'name': 'iContact',\n",
       "  'acquisition': {'acquired_year': 2012}},\n",
       " {'_id': ObjectId('52cdef7c4bab8bd675297ddd'),\n",
       "  'name': 'Mashery',\n",
       "  'acquisition': {'acquired_year': 2013}},\n",
       " {'_id': ObjectId('52cdef7c4bab8bd675297dee'),\n",
       "  'name': 'Dailymotion',\n",
       "  'acquisition': {'acquired_year': 2013}},\n",
       " {'_id': ObjectId('52cdef7c4bab8bd675297def'),\n",
       "  'name': 'KickApps',\n",
       "  'acquisition': {'acquired_year': 2012}},\n",
       " {'_id': ObjectId('52cdef7c4bab8bd675297df3'),\n",
       "  'name': 'Instructables',\n",
       "  'acquisition': {'acquired_year': 2011}},\n",
       " {'_id': ObjectId('52cdef7c4bab8bd675297df4'),\n",
       "  'name': 'Netvibes',\n",
       "  'acquisition': {'acquired_year': 2012}},\n",
       " {'_id': ObjectId('52cdef7c4bab8bd675297e02'),\n",
       "  'name': 'Dogster',\n",
       "  'acquisition': {'acquired_year': 2011}},\n",
       " {'_id': ObjectId('52cdef7c4bab8bd675297e09'),\n",
       "  'name': 'Meebo',\n",
       "  'acquisition': {'acquired_year': 2012}},\n",
       " {'_id': ObjectId('52cdef7c4bab8bd675297e06'),\n",
       "  'name': 'adBrite',\n",
       "  'acquisition': {'acquired_year': 2013}},\n",
       " {'_id': ObjectId('52cdef7c4bab8bd675297e1d'),\n",
       "  'name': 'Seesmic',\n",
       "  'acquisition': {'acquired_year': 2012}},\n",
       " {'_id': ObjectId('52cdef7c4bab8bd675297e20'),\n",
       "  'name': 'Zvents',\n",
       "  'acquisition': {'acquired_year': 2011}},\n",
       " {'_id': ObjectId('52cdef7c4bab8bd675297e25'),\n",
       "  'name': 'Oodle',\n",
       "  'acquisition': {'acquired_year': 2012}},\n",
       " {'_id': ObjectId('52cdef7c4bab8bd675297e31'),\n",
       "  'name': 'Flixster',\n",
       "  'acquisition': {'acquired_year': 2011}},\n",
       " {'_id': ObjectId('52cdef7c4bab8bd675297e3d'),\n",
       "  'name': 'IceRocket',\n",
       "  'acquisition': {'acquired_year': 2011}},\n",
       " {'_id': ObjectId('52cdef7c4bab8bd675297e44'),\n",
       "  'name': 'hi5',\n",
       "  'acquisition': {'acquired_year': 2011}},\n",
       " {'_id': ObjectId('52cdef7c4bab8bd675297e4a'),\n",
       "  'name': 'Indeed',\n",
       "  'acquisition': {'acquired_year': 2012}},\n",
       " {'_id': ObjectId('52cdef7c4bab8bd675297e5e'),\n",
       "  'name': 'Zenfolio',\n",
       "  'acquisition': {'acquired_year': 2013}},\n",
       " {'_id': ObjectId('52cdef7c4bab8bd675297e5a'),\n",
       "  'name': 'Grockit',\n",
       "  'acquisition': {'acquired_year': 2013}},\n",
       " {'_id': ObjectId('52cdef7c4bab8bd675297e66'),\n",
       "  'name': 'Wishpot',\n",
       "  'acquisition': {'acquired_year': 2012}},\n",
       " {'_id': ObjectId('52cdef7c4bab8bd675297e7c'),\n",
       "  'name': 'Retrevo',\n",
       "  'acquisition': {'acquired_year': 2012}},\n",
       " {'_id': ObjectId('52cdef7c4bab8bd675297eb6'),\n",
       "  'name': 'SelectMinds',\n",
       "  'acquisition': {'acquired_year': 2012}},\n",
       " {'_id': ObjectId('52cdef7c4bab8bd675297ebc'),\n",
       "  'name': 'Flock',\n",
       "  'acquisition': {'acquired_year': 2011}},\n",
       " {'_id': ObjectId('52cdef7c4bab8bd675297ec6'),\n",
       "  'name': 'TimeBridge',\n",
       "  'acquisition': {'acquired_year': 2011}},\n",
       " {'_id': ObjectId('52cdef7c4bab8bd675297ecc'),\n",
       "  'name': 'TokBox',\n",
       "  'acquisition': {'acquired_year': 2012}},\n",
       " {'_id': ObjectId('52cdef7c4bab8bd675297ed2'),\n",
       "  'name': 'Six Apart',\n",
       "  'acquisition': {'acquired_year': 2011}},\n",
       " {'_id': ObjectId('52cdef7c4bab8bd675297ef9'),\n",
       "  'name': 'Doostang',\n",
       "  'acquisition': {'acquired_year': 2011}},\n",
       " {'_id': ObjectId('52cdef7c4bab8bd675297f01'),\n",
       "  'name': 'Vlingo',\n",
       "  'acquisition': {'acquired_year': 2011}},\n",
       " {'_id': ObjectId('52cdef7c4bab8bd675297f00'),\n",
       "  'name': 'Docstoc',\n",
       "  'acquisition': {'acquired_year': 2013}},\n",
       " {'_id': ObjectId('52cdef7c4bab8bd675297ef5'),\n",
       "  'name': 'MySpace',\n",
       "  'acquisition': {'acquired_year': 2011}},\n",
       " {'_id': ObjectId('52cdef7c4bab8bd675297f0f'),\n",
       "  'name': 'sezmi',\n",
       "  'acquisition': {'acquired_year': 2012}},\n",
       " {'_id': ObjectId('52cdef7c4bab8bd675297f1a'),\n",
       "  'name': 'Greystripe',\n",
       "  'acquisition': {'acquired_year': 2011}},\n",
       " {'_id': ObjectId('52cdef7c4bab8bd675297f3d'),\n",
       "  'name': 'LocaModa',\n",
       "  'acquisition': {'acquired_year': 2013}},\n",
       " {'_id': ObjectId('52cdef7c4bab8bd675297f53'),\n",
       "  'name': 'Thumbplay',\n",
       "  'acquisition': {'acquired_year': 2011}},\n",
       " {'_id': ObjectId('52cdef7c4bab8bd675297f71'),\n",
       "  'name': 'OMGPOP',\n",
       "  'acquisition': {'acquired_year': 2012}},\n",
       " {'_id': ObjectId('52cdef7c4bab8bd675297f73'),\n",
       "  'name': 'Daylife',\n",
       "  'acquisition': {'acquired_year': 2012}},\n",
       " {'_id': ObjectId('52cdef7c4bab8bd675297f7b'),\n",
       "  'name': 'Behance',\n",
       "  'acquisition': {'acquired_year': 2012}},\n",
       " {'_id': ObjectId('52cdef7c4bab8bd675297f89'),\n",
       "  'name': 'Attributor',\n",
       "  'acquisition': {'acquired_year': 2012}},\n",
       " {'_id': ObjectId('52cdef7c4bab8bd675297f99'),\n",
       "  'name': 'WooMe',\n",
       "  'acquisition': {'acquired_year': 2011}},\n",
       " {'_id': ObjectId('52cdef7c4bab8bd675297f9a'),\n",
       "  'name': 'Viewdle',\n",
       "  'acquisition': {'acquired_year': 2012}},\n",
       " {'_id': ObjectId('52cdef7c4bab8bd675297f9b'),\n",
       "  'name': 'Mixx',\n",
       "  'acquisition': {'acquired_year': 2011}},\n",
       " {'_id': ObjectId('52cdef7c4bab8bd675297f9c'),\n",
       "  'name': 'TripIt',\n",
       "  'acquisition': {'acquired_year': 2011}},\n",
       " {'_id': ObjectId('52cdef7c4bab8bd675297fc0'),\n",
       "  'name': 'Tumri',\n",
       "  'acquisition': {'acquired_year': 2011}},\n",
       " {'_id': ObjectId('52cdef7c4bab8bd675297fbd'),\n",
       "  'name': 'OneRiot',\n",
       "  'acquisition': {'acquired_year': 2011}},\n",
       " {'_id': ObjectId('52cdef7c4bab8bd675297fc7'),\n",
       "  'name': 'Clickable',\n",
       "  'acquisition': {'acquired_year': 2012}},\n",
       " {'_id': ObjectId('52cdef7c4bab8bd675297fdc'),\n",
       "  'name': 'GamerDNA',\n",
       "  'acquisition': {'acquired_year': 2011}},\n",
       " {'_id': ObjectId('52cdef7c4bab8bd675297fe7'),\n",
       "  'name': 'Xobni',\n",
       "  'acquisition': {'acquired_year': 2013}},\n",
       " {'_id': ObjectId('52cdef7c4bab8bd675298000'),\n",
       "  'name': 'Sermo',\n",
       "  'acquisition': {'acquired_year': 2012}},\n",
       " {'_id': ObjectId('52cdef7c4bab8bd675298004'),\n",
       "  'name': 'Worklight',\n",
       "  'acquisition': {'acquired_year': 2012}},\n",
       " {'_id': ObjectId('52cdef7c4bab8bd675298014'),\n",
       "  'name': 'PlaySpan',\n",
       "  'acquisition': {'acquired_year': 2011}},\n",
       " {'_id': ObjectId('52cdef7c4bab8bd67529801e'),\n",
       "  'name': 'Zimbra',\n",
       "  'acquisition': {'acquired_year': 2013}},\n",
       " {'_id': ObjectId('52cdef7c4bab8bd67529802a'),\n",
       "  'name': 'earthmine',\n",
       "  'acquisition': {'acquired_year': 2012}},\n",
       " {'_id': ObjectId('52cdef7c4bab8bd675298036'),\n",
       "  'name': 'Whiskey Media',\n",
       "  'acquisition': {'acquired_year': 2012}},\n",
       " {'_id': ObjectId('52cdef7c4bab8bd675298037'),\n",
       "  'name': 'VoodooVox',\n",
       "  'acquisition': {'acquired_year': 2011}},\n",
       " {'_id': ObjectId('52cdef7c4bab8bd67529803d'),\n",
       "  'name': 'Uptake',\n",
       "  'acquisition': {'acquired_year': 2012}},\n",
       " {'_id': ObjectId('52cdef7c4bab8bd675298039'),\n",
       "  'name': 'CondoDomain',\n",
       "  'acquisition': {'acquired_year': 2012}},\n",
       " {'_id': ObjectId('52cdef7c4bab8bd675298046'),\n",
       "  'name': 'AdReady',\n",
       "  'acquisition': {'acquired_year': 2013}},\n",
       " {'_id': ObjectId('52cdef7c4bab8bd67529804c'),\n",
       "  'name': 'The Climate Corporation',\n",
       "  'acquisition': {'acquired_year': 2013}},\n",
       " {'_id': ObjectId('52cdef7c4bab8bd675298051'),\n",
       "  'name': 'Tumblr',\n",
       "  'acquisition': {'acquired_year': 2013}},\n",
       " {'_id': ObjectId('52cdef7c4bab8bd67529805f'),\n",
       "  'name': 'EchoSign',\n",
       "  'acquisition': {'acquired_year': 2011}},\n",
       " {'_id': ObjectId('52cdef7c4bab8bd67529805e'),\n",
       "  'name': 'JackBe',\n",
       "  'acquisition': {'acquired_year': 2013}},\n",
       " {'_id': ObjectId('52cdef7c4bab8bd67529806b'),\n",
       "  'name': 'Marakana',\n",
       "  'acquisition': {'acquired_year': 2013}},\n",
       " {'_id': ObjectId('52cdef7c4bab8bd675298067'),\n",
       "  'name': 'Rollbase',\n",
       "  'acquisition': {'acquired_year': 2013}},\n",
       " {'_id': ObjectId('52cdef7c4bab8bd675298097'),\n",
       "  'name': 'Pelago',\n",
       "  'acquisition': {'acquired_year': 2011}},\n",
       " {'_id': ObjectId('52cdef7c4bab8bd675298095'),\n",
       "  'name': 'Vitrue',\n",
       "  'acquisition': {'acquired_year': 2012}},\n",
       " {'_id': ObjectId('52cdef7c4bab8bd675298092'),\n",
       "  'name': 'Peer39',\n",
       "  'acquisition': {'acquired_year': 2012}},\n",
       " {'_id': ObjectId('52cdef7c4bab8bd6752980ad'),\n",
       "  'name': 'MerchantCircle',\n",
       "  'acquisition': {'acquired_year': 2011}},\n",
       " {'_id': ObjectId('52cdef7c4bab8bd6752980bd'),\n",
       "  'name': 'Loopt',\n",
       "  'acquisition': {'acquired_year': 2012}},\n",
       " {'_id': ObjectId('52cdef7c4bab8bd6752980ed'),\n",
       "  'name': 'Bloglines',\n",
       "  'acquisition': {'acquired_year': 2011}},\n",
       " {'_id': ObjectId('52cdef7c4bab8bd6752980f7'),\n",
       "  'name': 'Mogreet',\n",
       "  'acquisition': {'acquired_year': 2013}},\n",
       " {'_id': ObjectId('52cdef7c4bab8bd675298113'),\n",
       "  'name': 'UpNext',\n",
       "  'acquisition': {'acquired_year': 2012}},\n",
       " {'_id': ObjectId('52cdef7c4bab8bd675298118'),\n",
       "  'name': 'TrustedID',\n",
       "  'acquisition': {'acquired_year': 2013}},\n",
       " {'_id': ObjectId('52cdef7c4bab8bd675298121'),\n",
       "  'name': 'Sendori',\n",
       "  'acquisition': {'acquired_year': 2011}},\n",
       " {'_id': ObjectId('52cdef7c4bab8bd67529813b'),\n",
       "  'name': 'Kewego',\n",
       "  'acquisition': {'acquired_year': 2011}},\n",
       " {'_id': ObjectId('52cdef7c4bab8bd675298146'),\n",
       "  'name': 'SocialPicks',\n",
       "  'acquisition': {'acquired_year': 2012}},\n",
       " {'_id': ObjectId('52cdef7c4bab8bd675298156'),\n",
       "  'name': 'Shipwire',\n",
       "  'acquisition': {'acquired_year': 2013}},\n",
       " {'_id': ObjectId('52cdef7c4bab8bd675298163'),\n",
       "  'name': 'Smilebox',\n",
       "  'acquisition': {'acquired_year': 2011}},\n",
       " {'_id': ObjectId('52cdef7c4bab8bd675298168'),\n",
       "  'name': 'Kosmix',\n",
       "  'acquisition': {'acquired_year': 2011}},\n",
       " {'_id': ObjectId('52cdef7c4bab8bd67529816c'),\n",
       "  'name': 'Goodreads',\n",
       "  'acquisition': {'acquired_year': 2013}},\n",
       " {'_id': ObjectId('52cdef7c4bab8bd675298183'),\n",
       "  'name': 'KAYAK',\n",
       "  'acquisition': {'acquired_year': 2012}},\n",
       " {'_id': ObjectId('52cdef7c4bab8bd675298178'),\n",
       "  'name': 'Qik',\n",
       "  'acquisition': {'acquired_year': 2011}},\n",
       " {'_id': ObjectId('52cdef7c4bab8bd6752981af'),\n",
       "  'name': 'Scrapblog',\n",
       "  'acquisition': {'acquired_year': 2011}},\n",
       " {'_id': ObjectId('52cdef7c4bab8bd6752981b8'),\n",
       "  'name': 'Meraki',\n",
       "  'acquisition': {'acquired_year': 2012}},\n",
       " {'_id': ObjectId('52cdef7c4bab8bd6752981c3'),\n",
       "  'name': 'Jobfox',\n",
       "  'acquisition': {'acquired_year': 2012}},\n",
       " {'_id': ObjectId('52cdef7c4bab8bd6752981c7'),\n",
       "  'name': 'Outspark',\n",
       "  'acquisition': {'acquired_year': 2013}},\n",
       " {'_id': ObjectId('52cdef7c4bab8bd6752981d3'),\n",
       "  'name': 'Mpayy',\n",
       "  'acquisition': {'acquired_year': 2011}},\n",
       " {'_id': ObjectId('52cdef7c4bab8bd6752981c9'),\n",
       "  'name': 'Livemocha',\n",
       "  'acquisition': {'acquired_year': 2013}},\n",
       " {'_id': ObjectId('52cdef7c4bab8bd6752981f5'),\n",
       "  'name': 'UnLtdWorld',\n",
       "  'acquisition': {'acquired_year': 2011}},\n",
       " {'_id': ObjectId('52cdef7c4bab8bd6752981d6'),\n",
       "  'name': 'SuccessFactors',\n",
       "  'acquisition': {'acquired_year': 2012}},\n",
       " {'_id': ObjectId('52cdef7c4bab8bd675298207'),\n",
       "  'name': 'Amobee',\n",
       "  'acquisition': {'acquired_year': 2012}},\n",
       " {'_id': ObjectId('52cdef7c4bab8bd67529820c'),\n",
       "  'name': 'Roost',\n",
       "  'acquisition': {'acquired_year': 2011}},\n",
       " {'_id': ObjectId('52cdef7c4bab8bd675298213'),\n",
       "  'name': 'Lijit Networks',\n",
       "  'acquisition': {'acquired_year': 2011}},\n",
       " {'_id': ObjectId('52cdef7c4bab8bd675298231'),\n",
       "  'name': 'Taptu',\n",
       "  'acquisition': {'acquired_year': 2012}}]"
      ]
     },
     "execution_count": 114,
     "metadata": {},
     "output_type": "execute_result"
    }
   ],
   "source": [
    "# Your Code\n",
    "query = {\"$and\":[{\"founded_year\":{\"$gte\":2000}},\n",
    "                 {\"founded_year\":{\"$lte\":2010}}, \n",
    "               {\"acquisition.acquired_year\":{\"$gte\":2011}}]}\n",
    "list(db[\"companies\"].find(query,{\"acquisition.acquired_year\", \"name\"}).limit(100))\n"
   ]
  },
  {
   "cell_type": "markdown",
   "metadata": {},
   "source": [
    "### 20. All the companies that have been 'deadpooled' after the third year."
   ]
  },
  {
   "cell_type": "code",
   "execution_count": null,
   "metadata": {},
   "outputs": [],
   "source": [
    "# Your Code{\"acquisition.acquired_day\":{\"$lte\": 7}}"
   ]
  }
 ],
 "metadata": {
  "kernelspec": {
   "display_name": "Python 3",
   "language": "python",
   "name": "python3"
  },
  "language_info": {
   "codemirror_mode": {
    "name": "ipython",
    "version": 3
   },
   "file_extension": ".py",
   "mimetype": "text/x-python",
   "name": "python",
   "nbconvert_exporter": "python",
   "pygments_lexer": "ipython3",
   "version": "3.8.2"
  }
 },
 "nbformat": 4,
 "nbformat_minor": 2
}
